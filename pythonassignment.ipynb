{
  "nbformat": 4,
  "nbformat_minor": 0,
  "metadata": {
    "colab": {
      "provenance": [],
      "toc_visible": true,
      "authorship_tag": "ABX9TyP98YodnjBmnpw6+7efq09N",
      "include_colab_link": true
    },
    "kernelspec": {
      "name": "python3",
      "display_name": "Python 3"
    },
    "language_info": {
      "name": "python"
    }
  },
  "cells": [
    {
      "cell_type": "markdown",
      "metadata": {
        "id": "view-in-github",
        "colab_type": "text"
      },
      "source": [
        "<a href=\"https://colab.research.google.com/github/pragatisaroj1608/pragati/blob/main/pythonassignment.ipynb\" target=\"_parent\"><img src=\"https://colab.research.google.com/assets/colab-badge.svg\" alt=\"Open In Colab\"/></a>"
      ]
    },
    {
      "cell_type": "markdown",
      "source": [],
      "metadata": {
        "id": "R6FOI8lBvU20"
      }
    },
    {
      "cell_type": "code",
      "source": [
        "# Q1: What is the output of following expression\n",
        "#     5 + 4 * 9 % (3 + 1) / 6 - 1\n",
        "\n",
        "result = 5 + 4 * 9 % (3 + 1) / 6 - 1\n",
        "print(result)\n"
      ],
      "metadata": {
        "colab": {
          "base_uri": "https://localhost:8080/"
        },
        "id": "dqQnYcxgc0JG",
        "outputId": "0555336a-af4a-4a19-9928-c163db0812fe"
      },
      "execution_count": null,
      "outputs": [
        {
          "output_type": "stream",
          "name": "stdout",
          "text": [
            "4.0\n"
          ]
        }
      ]
    },
    {
      "cell_type": "code",
      "source": [
        "# Q2: Write a program to check if a Number is Odd or Even. Take number as a input from user at runtime.\n",
        "\n",
        "num = int(input(\"Enter a number: \"))\n",
        "if num % 2 == 0:\n",
        "    print(\"The number is even.\")\n",
        "else:\n",
        "    print(\"The number is odd.\")\n"
      ],
      "metadata": {
        "colab": {
          "base_uri": "https://localhost:8080/"
        },
        "id": "hau6LtLDc0si",
        "outputId": "bf4dc684-e90b-4d26-b5b7-4bfd7aea81d9"
      },
      "execution_count": null,
      "outputs": [
        {
          "output_type": "stream",
          "name": "stdout",
          "text": [
            "Enter a number: 4\n",
            "The number is even.\n"
          ]
        }
      ]
    },
    {
      "cell_type": "code",
      "source": [
        "# Q3: Write a program to display the multiplication table by taking a number as input.\n",
        "#     [Hint : Use print statement inside of a loop]\n",
        "\n",
        "num = int(input(\"Enter a number: \"))\n",
        "for i in range(1, 11):\n",
        "    print(f\"{num} x {i} = {num * i}\")\n"
      ],
      "metadata": {
        "colab": {
          "base_uri": "https://localhost:8080/"
        },
        "id": "4moVaPRpdLhO",
        "outputId": "4d92028e-7015-49e9-91f8-e8708a1b94f6"
      },
      "execution_count": null,
      "outputs": [
        {
          "output_type": "stream",
          "name": "stdout",
          "text": [
            "Enter a number: 5\n",
            "5 x 1 = 5\n",
            "5 x 2 = 10\n",
            "5 x 3 = 15\n",
            "5 x 4 = 20\n",
            "5 x 5 = 25\n",
            "5 x 6 = 30\n",
            "5 x 7 = 35\n",
            "5 x 8 = 40\n",
            "5 x 9 = 45\n",
            "5 x 10 = 50\n"
          ]
        }
      ]
    },
    {
      "cell_type": "code",
      "source": [
        "# Q4: Write a program which will find all numbers between 2000 and 3200 which are divisible by 7\n",
        "#     but are not a multiple of 5.\n",
        "#     Note: The numbers obtained should be printed in a comma-separated sequence on a single line.\n",
        "\n",
        "numbers = [str(i) for i in range(2000, 3201) if i % 7 == 0 and i % 5 != 0]\n",
        "print(\", \".join(numbers))"
      ],
      "metadata": {
        "colab": {
          "base_uri": "https://localhost:8080/"
        },
        "id": "0POte-1ydVSs",
        "outputId": "b4595a06-df6b-4226-f383-df6eb1340dbb"
      },
      "execution_count": null,
      "outputs": [
        {
          "output_type": "stream",
          "name": "stdout",
          "text": [
            "2002, 2009, 2016, 2023, 2037, 2044, 2051, 2058, 2072, 2079, 2086, 2093, 2107, 2114, 2121, 2128, 2142, 2149, 2156, 2163, 2177, 2184, 2191, 2198, 2212, 2219, 2226, 2233, 2247, 2254, 2261, 2268, 2282, 2289, 2296, 2303, 2317, 2324, 2331, 2338, 2352, 2359, 2366, 2373, 2387, 2394, 2401, 2408, 2422, 2429, 2436, 2443, 2457, 2464, 2471, 2478, 2492, 2499, 2506, 2513, 2527, 2534, 2541, 2548, 2562, 2569, 2576, 2583, 2597, 2604, 2611, 2618, 2632, 2639, 2646, 2653, 2667, 2674, 2681, 2688, 2702, 2709, 2716, 2723, 2737, 2744, 2751, 2758, 2772, 2779, 2786, 2793, 2807, 2814, 2821, 2828, 2842, 2849, 2856, 2863, 2877, 2884, 2891, 2898, 2912, 2919, 2926, 2933, 2947, 2954, 2961, 2968, 2982, 2989, 2996, 3003, 3017, 3024, 3031, 3038, 3052, 3059, 3066, 3073, 3087, 3094, 3101, 3108, 3122, 3129, 3136, 3143, 3157, 3164, 3171, 3178, 3192, 3199\n"
          ]
        }
      ]
    },
    {
      "cell_type": "code",
      "source": [
        "# Q5: Count the elements of each datatype inside the list and display in output\n",
        "#     [2, 3, 'Py', '10', 1, 'SQL', 5.5, True, 3, 'John', None, 7]\n",
        "\n",
        "data = [2, 3, 'Py', '10', 1, 'SQL', 5.5, True, 3, 'John', None, 7]\n",
        "counts = {\"int\": 0, \"str\": 0, \"float\": 0, \"bool\": 0, \"None\": 0}\n",
        "for item in data:\n",
        "    if isinstance(item, int):\n",
        "        counts[\"int\"] += 1\n",
        "    elif isinstance(item, str):\n",
        "        counts[\"str\"] += 1\n",
        "    elif isinstance(item, float):\n",
        "        counts[\"float\"] += 1\n",
        "    elif isinstance(item, bool):\n",
        "        counts[\"bool\"] += 1\n",
        "    elif item is None:\n",
        "        counts[\"None\"] += 1\n",
        "print(counts)\n"
      ],
      "metadata": {
        "colab": {
          "base_uri": "https://localhost:8080/"
        },
        "id": "r7NWELcVdb1B",
        "outputId": "49f0bc25-a052-4ffb-f8dd-504da71a8660"
      },
      "execution_count": null,
      "outputs": [
        {
          "output_type": "stream",
          "name": "stdout",
          "text": [
            "{'int': 6, 'str': 4, 'float': 1, 'bool': 0, 'None': 1}\n"
          ]
        }
      ]
    },
    {
      "cell_type": "code",
      "source": [
        "# Q6: Add all values from the list with numeric datatypes\n",
        "#     [2, 3, 'Py', '10', 1, 'SQL', 5.5, True, 3, 'John', None, 7]\n",
        "\n",
        "data = [2, 3, 'Py', '10', 1, 'SQL', 5.5, True, 3, 'John', None, 7]\n",
        "total = sum(item for item in data if isinstance(item, (int, float, bool)))\n",
        "print(total)"
      ],
      "metadata": {
        "colab": {
          "base_uri": "https://localhost:8080/"
        },
        "id": "xpCTdI2ZeKdu",
        "outputId": "480bd580-f170-4c03-a543-69d9beb645e3"
      },
      "execution_count": null,
      "outputs": [
        {
          "output_type": "stream",
          "name": "stdout",
          "text": [
            "22.5\n"
          ]
        }
      ]
    },
    {
      "cell_type": "code",
      "source": [
        "# Q7: Concat all str datatypes with hyphen as a delimiter\n",
        "#     [2, 3, 'Py', '10', 1, 'SQL', 5.5, True, 3, 'John', None, 7]\n",
        "\n",
        "data = [2, 3, 'Py', '10', 1, 'SQL', 5.5, True, 3, 'John', None, 7]\n",
        "strings = [str(item) for item in data if isinstance(item, str)]\n",
        "print(\"-\".join(strings))"
      ],
      "metadata": {
        "colab": {
          "base_uri": "https://localhost:8080/"
        },
        "id": "RCQbfM0geVO3",
        "outputId": "199a8c2e-5fed-4ffe-b2bb-fb2309ea4281"
      },
      "execution_count": null,
      "outputs": [
        {
          "output_type": "stream",
          "name": "stdout",
          "text": [
            "Py-10-SQL-John\n"
          ]
        }
      ]
    },
    {
      "cell_type": "code",
      "source": [
        "# Q8: Get only odd numbers from the following list and store the numbers in new list\n",
        "#     li = [5, 7, 22, 97, 54, 62, 77, 23, 73, 61]\n",
        "\n",
        "li = [5, 7, 22, 97, 54, 62, 77, 23, 73, 61]\n",
        "\n",
        "# i. Use loops to get the answer\n",
        "odd_numbers = []\n",
        "for num in li:\n",
        "    if num % 2 != 0:\n",
        "        odd_numbers.append(num)\n",
        "print(odd_numbers)\n",
        "\n",
        "# ii. Use list comprehensions\n",
        "odd_numbers = [num for num in li if num % 2 != 0]\n",
        "print(odd_numbers)\n",
        "\n",
        "# iii. Use lambda function with filter\n",
        "odd_numbers = list(filter(lambda x: x % 2 != 0, li))\n",
        "print(odd_numbers)"
      ],
      "metadata": {
        "colab": {
          "base_uri": "https://localhost:8080/"
        },
        "id": "hy1qbW8delAc",
        "outputId": "0159a23e-033d-4edc-d04e-88852585c399"
      },
      "execution_count": null,
      "outputs": [
        {
          "output_type": "stream",
          "name": "stdout",
          "text": [
            "[5, 7, 97, 77, 23, 73, 61]\n",
            "[5, 7, 97, 77, 23, 73, 61]\n",
            "[5, 7, 97, 77, 23, 73, 61]\n"
          ]
        }
      ]
    },
    {
      "cell_type": "code",
      "source": [
        "# Q9: Write an udf to calculate the area of different shapes\n",
        "#     Take shape and dimensions as arguments to udf as follows :\n",
        "#     1. square which has side\n",
        "#     2. rectangle which has length and width\n",
        "#     3. circle which has radius\n",
        "#     The shape should be a positional argument and it's dimensions are taken as kwargs\n",
        "#     Perform proper validation for the user inputs and then"
      ],
      "metadata": {
        "id": "gScKelore-Ye"
      },
      "execution_count": null,
      "outputs": []
    },
    {
      "cell_type": "code",
      "source": [
        "write a UDF to check if a number is prime or not.\n",
        "def is_prime(n):\n",
        "    \"\"\"\n",
        "    Check if a number is prime.\n",
        "\n",
        "    Args:\n",
        "        n (int): The number to check.\n",
        "\n",
        "    Returns:\n",
        "        bool: True if the number is prime, False otherwise.\n",
        "\n",
        "    Raises:\n",
        "        ValueError: If the input is not a positive integer.\n",
        "    \"\"\"\n",
        "\n",
        "    if not isinstance(n, int) or n <= 0:\n",
        "        raise ValueError(\"Input must be a positive integer.\")\n",
        "\n",
        "    if n == 1:\n",
        "        return False\n",
        "\n",
        "    for i in range(2, int(n ** 0.5) + 1):\n",
        "        if n % i == 0:\n",
        "            return False\n",
        "\n",
        "    return True\n",
        "\n",
        "# Example usage:print(is_prime(25))  # Output: False\n",
        "print(is_prime(23))  # Output: True\n",
        "print(is_prime(37))  # Output: True\n",
        "print(is_prime(48))  # Output: False"
      ],
      "metadata": {
        "colab": {
          "base_uri": "https://localhost:8080/",
          "height": 106
        },
        "id": "HZYcA5FGgq8k",
        "outputId": "6a996df3-f7be-4d8a-e593-ff02b4af9c8e"
      },
      "execution_count": null,
      "outputs": [
        {
          "output_type": "error",
          "ename": "SyntaxError",
          "evalue": "expected 'else' after 'if' expression (<ipython-input-19-7a306b5cf6a4>, line 1)",
          "traceback": [
            "\u001b[0;36m  File \u001b[0;32m\"<ipython-input-19-7a306b5cf6a4>\"\u001b[0;36m, line \u001b[0;32m1\u001b[0m\n\u001b[0;31m    write a UDF to check if a number is prime or not.\u001b[0m\n\u001b[0m                   ^\u001b[0m\n\u001b[0;31mSyntaxError\u001b[0m\u001b[0;31m:\u001b[0m expected 'else' after 'if' expression\n"
          ]
        }
      ]
    },
    {
      "cell_type": "code",
      "source": [
        "Q11. Write a program that takes a string and returns reversed string. i.e. if input is \"abcd123\" output should be \"321dcba\"\n",
        "def reverse_string(s):\n",
        "    \"\"\"\n",
        "    Reverse a string.\n",
        "\n",
        "    Args:\n",
        "        s (str): The string to reverse.\n",
        "\n",
        "    Returns:\n",
        "        str: The reversed string.\n",
        "    \"\"\"\n",
        "\n",
        "    return s[::-1]\n",
        "\n",
        "# Example usage:\n",
        "input_str = input(\"Enter a string: \")\n",
        "print(reverse_string(input_str))\n",
        "def reverse_string(s):\n",
        "    return \"\".join(reversed(s))"
      ],
      "metadata": {
        "colab": {
          "base_uri": "https://localhost:8080/",
          "height": 106
        },
        "id": "QolAR8IdhFMZ",
        "outputId": "3c5f2cf8-74b2-4408-9ba3-d6f3a1a86973"
      },
      "execution_count": null,
      "outputs": [
        {
          "output_type": "error",
          "ename": "SyntaxError",
          "evalue": "invalid syntax (<ipython-input-21-c36d602d9d9f>, line 1)",
          "traceback": [
            "\u001b[0;36m  File \u001b[0;32m\"<ipython-input-21-c36d602d9d9f>\"\u001b[0;36m, line \u001b[0;32m1\u001b[0m\n\u001b[0;31m    Q11. Write a program that takes a string and returns reversed string. i.e. if input is \"abcd123\" output should be \"321dcba\"\u001b[0m\n\u001b[0m               ^\u001b[0m\n\u001b[0;31mSyntaxError\u001b[0m\u001b[0;31m:\u001b[0m invalid syntax\n"
          ]
        }
      ]
    }
  ]
}